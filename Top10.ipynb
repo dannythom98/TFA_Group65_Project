{
 "cells": [
  {
   "cell_type": "code",
   "execution_count": 4,
   "id": "f0fd613a-bb18-46bc-9a37-66a3ade6ee80",
   "metadata": {},
   "outputs": [
    {
     "data": {
      "text/plain": [
       "Noise - Residential            3610\n",
       "Noise - Street/Sidewalk        3087\n",
       "HEAT/HOT WATER                 2138\n",
       "Illegal Parking                1118\n",
       "Non-Emergency Police Matter     862\n",
       "Illegal Fireworks               779\n",
       "Noise - Vehicle                 647\n",
       "UNSANITARY CONDITION            628\n",
       "PLUMBING                        465\n",
       "Noise                           443\n",
       "Name: Complaint Type, dtype: int64"
      ]
     },
     "execution_count": 4,
     "metadata": {},
     "output_type": "execute_result"
    }
   ],
   "source": [
    "import pandas as pd\n",
    "csv_FileName = \"311_Service_Requests_2020.csv\"\n",
    "lookup_zip = \"10027\"\n",
    "\n",
    "df = pd.read_csv(csv_FileName, dtype = \"str\")\n",
    "zip_search = df[df[\"Incident Zip\"]==lookup_zip]\n",
    "incident_counts = zip_search[\"Complaint Type\"].value_counts()\n",
    "top10 = incident_counts.sort_values(ascending = False)[:10]\n",
    "top10"
   ]
  },
  {
   "cell_type": "code",
   "execution_count": null,
   "id": "39d72b23-fe79-4ab7-bc51-48fcc3a750d0",
   "metadata": {},
   "outputs": [],
   "source": []
  }
 ],
 "metadata": {
  "kernelspec": {
   "display_name": "Python 3",
   "language": "python",
   "name": "python3"
  },
  "language_info": {
   "codemirror_mode": {
    "name": "ipython",
    "version": 3
   },
   "file_extension": ".py",
   "mimetype": "text/x-python",
   "name": "python",
   "nbconvert_exporter": "python",
   "pygments_lexer": "ipython3",
   "version": "3.8.8"
  }
 },
 "nbformat": 4,
 "nbformat_minor": 5
}
