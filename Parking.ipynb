{
 "cells": [
  {
   "cell_type": "code",
   "execution_count": 1,
   "id": "3c9f49ea-4902-4cb2-b535-b298431c5a3e",
   "metadata": {},
   "outputs": [
    {
     "name": "stdout",
     "output_type": "stream",
     "text": [
      "5.207265952491849\n",
      "7.4873343650331075\n",
      "False\n"
     ]
    }
   ],
   "source": [
    "import pandas as pd\n",
    "csv_FileName = '311_Service_Requests_2020.csv'\n",
    "lookup_zip = '11235'\n",
    "df = pd.read_csv(csv_FileName, dtype = \"str\")\n",
    "\n",
    "zip_search = df[df[\"Incident Zip\"]==lookup_zip]\n",
    "Complaint_Type_counts_local = zip_search['Complaint Type'].value_counts()\n",
    "Illegal_Parking_count_local= Complaint_Type_counts_local['Illegal Parking']\n",
    "Total_Complaint_counts_local = Complaint_Type_counts_local.sum()\n",
    "#Parking_proportion in filtered zip dataset\n",
    "Parking_proportion_10027 = (Illegal_Parking_count_local/Total_Complaint_counts_local)*100 \n",
    "\n",
    "Complaint_Type_counts_global = df['Complaint Type'].value_counts()\n",
    "Illegal_Parking_count_global = Complaint_Type_counts_global['Illegal Parking']\n",
    "Total_Complaint_counts_global = Complaint_Type_counts_global.sum()\n",
    "#Parking ptoportion in global dataset\n",
    "Parking_proportion_global = (Illegal_Parking_count_global/Total_Complaint_counts_global)*100 \n",
    "\n",
    "\n",
    "higher_parking_proportion = print(Parking_proportion_local > Parking_proportion_global)\n",
    "higher_parking_proportion"
   ]
  },
  {
   "cell_type": "code",
   "execution_count": null,
   "id": "e154d552-d5f9-4079-9379-0b2f85ccf7fb",
   "metadata": {},
   "outputs": [],
   "source": []
  }
 ],
 "metadata": {
  "kernelspec": {
   "display_name": "Python 3",
   "language": "python",
   "name": "python3"
  },
  "language_info": {
   "codemirror_mode": {
    "name": "ipython",
    "version": 3
   },
   "file_extension": ".py",
   "mimetype": "text/x-python",
   "name": "python",
   "nbconvert_exporter": "python",
   "pygments_lexer": "ipython3",
   "version": "3.8.8"
  }
 },
 "nbformat": 4,
 "nbformat_minor": 5
}
